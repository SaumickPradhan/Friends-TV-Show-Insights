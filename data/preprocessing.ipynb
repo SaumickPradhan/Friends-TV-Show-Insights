{
 "cells": [
  {
   "cell_type": "code",
   "execution_count": 2,
   "metadata": {},
   "outputs": [
    {
     "name": "stdout",
     "output_type": "stream",
     "text": [
      "Scene column added and updated based on the quotes containing \"Scene:\".\n",
      "     author  episode_number           episode_title  \\\n",
      "0    Monica             1.0  Monica Gets A Roommate   \n",
      "1      Joey             1.0  Monica Gets A Roommate   \n",
      "2  Chandler             1.0  Monica Gets A Roommate   \n",
      "3    Phoebe             1.0  Monica Gets A Roommate   \n",
      "4    Phoebe             1.0  Monica Gets A Roommate   \n",
      "\n",
      "                                               quote  quote_order  season  \\\n",
      "0  There's nothing to tell! He's just some guy I ...          0.0     1.0   \n",
      "1  C'mon, you're going out with the guy! There's ...          1.0     1.0   \n",
      "2  All right Joey, be nice. So does he have a hum...          2.0     1.0   \n",
      "3                           Wait, does he eat chalk?          3.0     1.0   \n",
      "4  Just, 'cause, I don't want her to go through w...          4.0     1.0   \n",
      "\n",
      "  Scene  \n",
      "0     0  \n",
      "1     0  \n",
      "2     0  \n",
      "3     0  \n",
      "4     0  \n"
     ]
    }
   ],
   "source": [
    "import pandas as pd\n",
    "\n",
    "# Read the CSV file into a DataFrame\n",
    "df = pd.read_csv('newfriends_quotes.csv')\n",
    "\n",
    "# Initialize the Scene column with NaN values\n",
    "df['Scene'] = pd.NA\n",
    "\n",
    "# Iterate through the DataFrame to update the Scene number whenever 'Scene:' is found in the quote\n",
    "current_scene = 0\n",
    "for index, row in df.iterrows():\n",
    "    if 'Scene:' in row['quote']:\n",
    "        current_scene += 1\n",
    "    df.at[index, 'Scene'] = current_scene\n",
    "\n",
    "# Save the updated DataFrame back to the CSV file\n",
    "df.to_csv('newfriends_quotes_updated.csv', index=False)\n",
    "\n",
    "print('Scene column added and updated based on the quotes containing \"Scene:\".')\n",
    "print(df.head())\n"
   ]
  },
  {
   "cell_type": "code",
   "execution_count": 9,
   "metadata": {},
   "outputs": [],
   "source": [
    "# Read the CSV file\n",
    "df = pd.read_csv('newfriends_quotes_updated.csv')\n",
    "\n",
    "# Convert to JSON\n",
    "json_data = df.to_json(orient='records')\n",
    "\n",
    "# Write to a JSON file\n",
    "with open('friends_quotes.json', 'w') as json_file:\n",
    "    json_file.write(json_data)"
   ]
  },
  {
   "cell_type": "code",
   "execution_count": 2,
   "metadata": {},
   "outputs": [],
   "source": [
    "import csv\n",
    "import json\n",
    "\n",
    "# Define the input and output file paths\n",
    "input_csv_file = 'newfriends_quotes_updated.csv'\n",
    "output_json_file = 'data.json'\n",
    "\n",
    "# Read the CSV file and convert it to a list of dictionaries\n",
    "data = []\n",
    "with open(input_csv_file, 'r') as csvfile:\n",
    "    reader = csv.DictReader(csvfile)\n",
    "    for row in reader:\n",
    "        data.append(row)\n",
    "\n",
    "# Write the list of dictionaries to a JSON file\n",
    "with open(output_json_file, 'w') as jsonfile:\n",
    "    json.dump(data, jsonfile, indent=4)\n"
   ]
  },
  {
   "cell_type": "code",
   "execution_count": 10,
   "metadata": {},
   "outputs": [],
   "source": [
    "import pandas as pd\n",
    "import json\n",
    "# Read the CSV file\n",
    "df = pd.read_csv('newfriends_quotes_updated.csv')\n",
    "\n",
    "# Create an empty dictionary for storing the JSON structure\n",
    "json_data = {\"seasons\": []}\n",
    "\n",
    "# Group the data by season and episode\n",
    "grouped = df.groupby(['season', 'episode_number', 'episode_title'])\n",
    "\n",
    "for (season, episode_number, episode_title), group in grouped:\n",
    "    # Create a dictionary for the season if it doesn't exist\n",
    "    season_dict = {\n",
    "        \"number\": season,\n",
    "        \"episodes\": []\n",
    "    }\n",
    "    \n",
    "    # Create a dictionary for the episode\n",
    "    episode_dict = {\n",
    "        \"number\": episode_number,\n",
    "        \"title\": episode_title,\n",
    "        \"scenes\": []\n",
    "    }\n",
    "    \n",
    "    # Group the episode data by scene\n",
    "    scene_grouped = group.groupby('Scene')\n",
    "    \n",
    "    for scene, scene_group in scene_grouped:\n",
    "        # Create a dictionary for the scene\n",
    "        scene_dict = {\n",
    "            \"number\": scene,\n",
    "            \"quotes\": []\n",
    "        }\n",
    "        \n",
    "        # Iterate through quotes in the scene\n",
    "        for _, row in scene_group.iterrows():\n",
    "            quote = {\n",
    "                \"author\": row['author'],\n",
    "                \"quote\": row['quote']\n",
    "            }\n",
    "            scene_dict[\"quotes\"].append(quote)\n",
    "        \n",
    "        # Append the scene dictionary to the episode's scenes\n",
    "        episode_dict[\"scenes\"].append(scene_dict)\n",
    "    \n",
    "    # Append the episode dictionary to the season's episodes\n",
    "    season_dict[\"episodes\"].append(episode_dict)\n",
    "    \n",
    "    # Append the season dictionary to the main JSON data\n",
    "    json_data[\"seasons\"].append(season_dict)\n",
    "\n",
    "# Write JSON data to a file\n",
    "with open('friends_quotes.json', 'w') as json_file:\n",
    "    json.dump(json_data, json_file, indent=2)\n"
   ]
  },
  {
   "cell_type": "code",
   "execution_count": 9,
   "metadata": {},
   "outputs": [
    {
     "name": "stdout",
     "output_type": "stream",
     "text": [
      "Quotes have been modified and saved to 'data_modified.csv'.\n"
     ]
    }
   ],
   "source": [
    "import csv\n",
    "import re\n",
    "from nltk.tokenize import word_tokenize\n",
    "\n",
    "# Define the input and output file paths\n",
    "input_csv_file = 'newfriends_quotes_updated.csv'\n",
    "output_csv_file = 'data_modified.csv'\n",
    "\n",
    "# Function to remove punctuation marks\n",
    "def remove_punctuation(text):\n",
    "    return re.sub(r'[!.,?]', '', text)\n",
    "\n",
    "# Read the CSV file and process the quotes\n",
    "with open(input_csv_file, 'r') as csvfile, open(output_csv_file, 'w', newline='') as output_csv:\n",
    "    reader = csv.DictReader(csvfile)\n",
    "    fieldnames = reader.fieldnames + ['modified_quote']\n",
    "    writer = csv.DictWriter(output_csv, fieldnames=fieldnames)\n",
    "    writer.writeheader()\n",
    "    \n",
    "    for row in reader:\n",
    "        quote = row['quote']\n",
    "        quote = remove_punctuation(quote)  # Remove punctuation marks\n",
    "        words = word_tokenize(quote)  # Tokenize the quote into words\n",
    "        modified_quote = ', '.join(words)  # Separate words by commas\n",
    "        \n",
    "        # Update the row with modified quote\n",
    "        row['modified_quote'] = modified_quote\n",
    "        \n",
    "        # Write the modified row to the output CSV file\n",
    "        writer.writerow(row)\n",
    "\n",
    "print(\"Quotes have been modified and saved to 'data_modified.csv'.\")\n"
   ]
  },
  {
   "cell_type": "code",
   "execution_count": 11,
   "metadata": {},
   "outputs": [
    {
     "name": "stdout",
     "output_type": "stream",
     "text": [
      "Modified data has been converted to JSON and saved to 'data_modified.json'.\n"
     ]
    }
   ],
   "source": [
    "import csv\n",
    "import json\n",
    "\n",
    "# Define the input and output file paths\n",
    "input_csv_file = 'data_modified.csv'\n",
    "output_json_file = 'data_modified.json'\n",
    "\n",
    "# Read the modified CSV file and convert it to a list of dictionaries\n",
    "data_modified = []\n",
    "with open(input_csv_file, 'r') as csvfile:\n",
    "    reader = csv.DictReader(csvfile)\n",
    "    for row in reader:\n",
    "        data_modified.append(row)\n",
    "\n",
    "# Write the list of dictionaries to a JSON file\n",
    "with open(output_json_file, 'w') as jsonfile:\n",
    "    json.dump(data_modified, jsonfile, indent=4)\n",
    "\n",
    "print(\"Modified data has been converted to JSON and saved to 'data_modified.json'.\")\n"
   ]
  },
  {
   "cell_type": "code",
   "execution_count": 11,
   "metadata": {},
   "outputs": [
    {
     "ename": "KeyError",
     "evalue": "'season'",
     "output_type": "error",
     "traceback": [
      "\u001b[0;31m---------------------------------------------------------------------------\u001b[0m",
      "\u001b[0;31mKeyError\u001b[0m                                  Traceback (most recent call last)",
      "Cell \u001b[0;32mIn[11], line 11\u001b[0m\n\u001b[1;32m      8\u001b[0m data \u001b[38;5;241m=\u001b[39m {\u001b[38;5;124m\"\u001b[39m\u001b[38;5;124mseasons\u001b[39m\u001b[38;5;124m\"\u001b[39m: []}\n\u001b[1;32m     10\u001b[0m \u001b[38;5;66;03m# Group by season, episode, and scene\u001b[39;00m\n\u001b[0;32m---> 11\u001b[0m grouped \u001b[38;5;241m=\u001b[39m \u001b[43mdf\u001b[49m\u001b[38;5;241;43m.\u001b[39;49m\u001b[43mgroupby\u001b[49m\u001b[43m(\u001b[49m\u001b[43m[\u001b[49m\u001b[38;5;124;43m\"\u001b[39;49m\u001b[38;5;124;43mseason\u001b[39;49m\u001b[38;5;124;43m\"\u001b[39;49m\u001b[43m,\u001b[49m\u001b[43m \u001b[49m\u001b[38;5;124;43m\"\u001b[39;49m\u001b[38;5;124;43mepisode_number\u001b[39;49m\u001b[38;5;124;43m\"\u001b[39;49m\u001b[43m,\u001b[49m\u001b[43m \u001b[49m\u001b[38;5;124;43m\"\u001b[39;49m\u001b[38;5;124;43mepisode_title\u001b[39;49m\u001b[38;5;124;43m\"\u001b[39;49m\u001b[43m,\u001b[49m\u001b[43m \u001b[49m\u001b[38;5;124;43m\"\u001b[39;49m\u001b[38;5;124;43mScene\u001b[39;49m\u001b[38;5;124;43m\"\u001b[39;49m\u001b[43m]\u001b[49m\u001b[43m)\u001b[49m\n\u001b[1;32m     13\u001b[0m \u001b[38;5;28;01mfor\u001b[39;00m (season, episode_number, episode_title, scene), group \u001b[38;5;129;01min\u001b[39;00m grouped:\n\u001b[1;32m     14\u001b[0m     scene_data \u001b[38;5;241m=\u001b[39m {\n\u001b[1;32m     15\u001b[0m         \u001b[38;5;124m\"\u001b[39m\u001b[38;5;124mnumber\u001b[39m\u001b[38;5;124m\"\u001b[39m: scene,\n\u001b[1;32m     16\u001b[0m         \u001b[38;5;124m\"\u001b[39m\u001b[38;5;124mlocation\u001b[39m\u001b[38;5;124m\"\u001b[39m: \u001b[38;5;124m\"\u001b[39m\u001b[38;5;124m\"\u001b[39m,  \u001b[38;5;66;03m# Add location if available\u001b[39;00m\n\u001b[1;32m     17\u001b[0m         \u001b[38;5;124m\"\u001b[39m\u001b[38;5;124mlines\u001b[39m\u001b[38;5;124m\"\u001b[39m: []\n\u001b[1;32m     18\u001b[0m     }\n",
      "File \u001b[0;32m~/miniforge3/envs/torch/lib/python3.9/site-packages/pandas/core/frame.py:8402\u001b[0m, in \u001b[0;36mDataFrame.groupby\u001b[0;34m(self, by, axis, level, as_index, sort, group_keys, squeeze, observed, dropna)\u001b[0m\n\u001b[1;32m   8399\u001b[0m     \u001b[38;5;28;01mraise\u001b[39;00m \u001b[38;5;167;01mTypeError\u001b[39;00m(\u001b[38;5;124m\"\u001b[39m\u001b[38;5;124mYou have to supply one of \u001b[39m\u001b[38;5;124m'\u001b[39m\u001b[38;5;124mby\u001b[39m\u001b[38;5;124m'\u001b[39m\u001b[38;5;124m and \u001b[39m\u001b[38;5;124m'\u001b[39m\u001b[38;5;124mlevel\u001b[39m\u001b[38;5;124m'\u001b[39m\u001b[38;5;124m\"\u001b[39m)\n\u001b[1;32m   8400\u001b[0m axis \u001b[38;5;241m=\u001b[39m \u001b[38;5;28mself\u001b[39m\u001b[38;5;241m.\u001b[39m_get_axis_number(axis)\n\u001b[0;32m-> 8402\u001b[0m \u001b[38;5;28;01mreturn\u001b[39;00m \u001b[43mDataFrameGroupBy\u001b[49m\u001b[43m(\u001b[49m\n\u001b[1;32m   8403\u001b[0m \u001b[43m    \u001b[49m\u001b[43mobj\u001b[49m\u001b[38;5;241;43m=\u001b[39;49m\u001b[38;5;28;43mself\u001b[39;49m\u001b[43m,\u001b[49m\n\u001b[1;32m   8404\u001b[0m \u001b[43m    \u001b[49m\u001b[43mkeys\u001b[49m\u001b[38;5;241;43m=\u001b[39;49m\u001b[43mby\u001b[49m\u001b[43m,\u001b[49m\n\u001b[1;32m   8405\u001b[0m \u001b[43m    \u001b[49m\u001b[43maxis\u001b[49m\u001b[38;5;241;43m=\u001b[39;49m\u001b[43maxis\u001b[49m\u001b[43m,\u001b[49m\n\u001b[1;32m   8406\u001b[0m \u001b[43m    \u001b[49m\u001b[43mlevel\u001b[49m\u001b[38;5;241;43m=\u001b[39;49m\u001b[43mlevel\u001b[49m\u001b[43m,\u001b[49m\n\u001b[1;32m   8407\u001b[0m \u001b[43m    \u001b[49m\u001b[43mas_index\u001b[49m\u001b[38;5;241;43m=\u001b[39;49m\u001b[43mas_index\u001b[49m\u001b[43m,\u001b[49m\n\u001b[1;32m   8408\u001b[0m \u001b[43m    \u001b[49m\u001b[43msort\u001b[49m\u001b[38;5;241;43m=\u001b[39;49m\u001b[43msort\u001b[49m\u001b[43m,\u001b[49m\n\u001b[1;32m   8409\u001b[0m \u001b[43m    \u001b[49m\u001b[43mgroup_keys\u001b[49m\u001b[38;5;241;43m=\u001b[39;49m\u001b[43mgroup_keys\u001b[49m\u001b[43m,\u001b[49m\n\u001b[1;32m   8410\u001b[0m \u001b[43m    \u001b[49m\u001b[43msqueeze\u001b[49m\u001b[38;5;241;43m=\u001b[39;49m\u001b[43msqueeze\u001b[49m\u001b[43m,\u001b[49m\n\u001b[1;32m   8411\u001b[0m \u001b[43m    \u001b[49m\u001b[43mobserved\u001b[49m\u001b[38;5;241;43m=\u001b[39;49m\u001b[43mobserved\u001b[49m\u001b[43m,\u001b[49m\n\u001b[1;32m   8412\u001b[0m \u001b[43m    \u001b[49m\u001b[43mdropna\u001b[49m\u001b[38;5;241;43m=\u001b[39;49m\u001b[43mdropna\u001b[49m\u001b[43m,\u001b[49m\n\u001b[1;32m   8413\u001b[0m \u001b[43m\u001b[49m\u001b[43m)\u001b[49m\n",
      "File \u001b[0;32m~/miniforge3/envs/torch/lib/python3.9/site-packages/pandas/core/groupby/groupby.py:965\u001b[0m, in \u001b[0;36mGroupBy.__init__\u001b[0;34m(self, obj, keys, axis, level, grouper, exclusions, selection, as_index, sort, group_keys, squeeze, observed, mutated, dropna)\u001b[0m\n\u001b[1;32m    962\u001b[0m \u001b[38;5;28;01mif\u001b[39;00m grouper \u001b[38;5;129;01mis\u001b[39;00m \u001b[38;5;28;01mNone\u001b[39;00m:\n\u001b[1;32m    963\u001b[0m     \u001b[38;5;28;01mfrom\u001b[39;00m \u001b[38;5;21;01mpandas\u001b[39;00m\u001b[38;5;21;01m.\u001b[39;00m\u001b[38;5;21;01mcore\u001b[39;00m\u001b[38;5;21;01m.\u001b[39;00m\u001b[38;5;21;01mgroupby\u001b[39;00m\u001b[38;5;21;01m.\u001b[39;00m\u001b[38;5;21;01mgrouper\u001b[39;00m \u001b[38;5;28;01mimport\u001b[39;00m get_grouper\n\u001b[0;32m--> 965\u001b[0m     grouper, exclusions, obj \u001b[38;5;241m=\u001b[39m \u001b[43mget_grouper\u001b[49m\u001b[43m(\u001b[49m\n\u001b[1;32m    966\u001b[0m \u001b[43m        \u001b[49m\u001b[43mobj\u001b[49m\u001b[43m,\u001b[49m\n\u001b[1;32m    967\u001b[0m \u001b[43m        \u001b[49m\u001b[43mkeys\u001b[49m\u001b[43m,\u001b[49m\n\u001b[1;32m    968\u001b[0m \u001b[43m        \u001b[49m\u001b[43maxis\u001b[49m\u001b[38;5;241;43m=\u001b[39;49m\u001b[43maxis\u001b[49m\u001b[43m,\u001b[49m\n\u001b[1;32m    969\u001b[0m \u001b[43m        \u001b[49m\u001b[43mlevel\u001b[49m\u001b[38;5;241;43m=\u001b[39;49m\u001b[43mlevel\u001b[49m\u001b[43m,\u001b[49m\n\u001b[1;32m    970\u001b[0m \u001b[43m        \u001b[49m\u001b[43msort\u001b[49m\u001b[38;5;241;43m=\u001b[39;49m\u001b[43msort\u001b[49m\u001b[43m,\u001b[49m\n\u001b[1;32m    971\u001b[0m \u001b[43m        \u001b[49m\u001b[43mobserved\u001b[49m\u001b[38;5;241;43m=\u001b[39;49m\u001b[43mobserved\u001b[49m\u001b[43m,\u001b[49m\n\u001b[1;32m    972\u001b[0m \u001b[43m        \u001b[49m\u001b[43mmutated\u001b[49m\u001b[38;5;241;43m=\u001b[39;49m\u001b[38;5;28;43mself\u001b[39;49m\u001b[38;5;241;43m.\u001b[39;49m\u001b[43mmutated\u001b[49m\u001b[43m,\u001b[49m\n\u001b[1;32m    973\u001b[0m \u001b[43m        \u001b[49m\u001b[43mdropna\u001b[49m\u001b[38;5;241;43m=\u001b[39;49m\u001b[38;5;28;43mself\u001b[39;49m\u001b[38;5;241;43m.\u001b[39;49m\u001b[43mdropna\u001b[49m\u001b[43m,\u001b[49m\n\u001b[1;32m    974\u001b[0m \u001b[43m    \u001b[49m\u001b[43m)\u001b[49m\n\u001b[1;32m    976\u001b[0m \u001b[38;5;28mself\u001b[39m\u001b[38;5;241m.\u001b[39mobj \u001b[38;5;241m=\u001b[39m obj\n\u001b[1;32m    977\u001b[0m \u001b[38;5;28mself\u001b[39m\u001b[38;5;241m.\u001b[39maxis \u001b[38;5;241m=\u001b[39m obj\u001b[38;5;241m.\u001b[39m_get_axis_number(axis)\n",
      "File \u001b[0;32m~/miniforge3/envs/torch/lib/python3.9/site-packages/pandas/core/groupby/grouper.py:888\u001b[0m, in \u001b[0;36mget_grouper\u001b[0;34m(obj, key, axis, level, sort, observed, mutated, validate, dropna)\u001b[0m\n\u001b[1;32m    886\u001b[0m         in_axis, level, gpr \u001b[38;5;241m=\u001b[39m \u001b[38;5;28;01mFalse\u001b[39;00m, gpr, \u001b[38;5;28;01mNone\u001b[39;00m\n\u001b[1;32m    887\u001b[0m     \u001b[38;5;28;01melse\u001b[39;00m:\n\u001b[0;32m--> 888\u001b[0m         \u001b[38;5;28;01mraise\u001b[39;00m \u001b[38;5;167;01mKeyError\u001b[39;00m(gpr)\n\u001b[1;32m    889\u001b[0m \u001b[38;5;28;01melif\u001b[39;00m \u001b[38;5;28misinstance\u001b[39m(gpr, Grouper) \u001b[38;5;129;01mand\u001b[39;00m gpr\u001b[38;5;241m.\u001b[39mkey \u001b[38;5;129;01mis\u001b[39;00m \u001b[38;5;129;01mnot\u001b[39;00m \u001b[38;5;28;01mNone\u001b[39;00m:\n\u001b[1;32m    890\u001b[0m     \u001b[38;5;66;03m# Add key to exclusions\u001b[39;00m\n\u001b[1;32m    891\u001b[0m     exclusions\u001b[38;5;241m.\u001b[39madd(gpr\u001b[38;5;241m.\u001b[39mkey)\n",
      "\u001b[0;31mKeyError\u001b[0m: 'season'"
     ]
    }
   ],
   "source": [
    "import pandas as pd\n",
    "import json\n",
    "\n",
    "# Read the CSV file\n",
    "df = pd.read_csv(\"newfriends_quotes_updated.csv\", delimiter=\"\\t\")\n",
    "\n",
    "# Convert to JSON format\n",
    "data = {\"seasons\": []}\n",
    "\n",
    "# Group by season, episode, and scene\n",
    "grouped = df.groupby([\"season\", \"episode_number\", \"episode_title\", \"Scene\"])\n",
    "\n",
    "for (season, episode_number, episode_title, scene), group in grouped:\n",
    "    scene_data = {\n",
    "        \"number\": scene,\n",
    "        \"location\": \"\",  # Add location if available\n",
    "        \"lines\": []\n",
    "    }\n",
    "\n",
    "    for _, row in group.iterrows():\n",
    "        line = {\n",
    "            \"character\": row[\"author\"],\n",
    "            \"spokenLine\": row[\"quote\"],\n",
    "            \"words\": row[\"quote\"].lower().split()\n",
    "        }\n",
    "        scene_data[\"lines\"].append(line)\n",
    "\n",
    "    episode_data = {\n",
    "        \"number\": episode_number,\n",
    "        \"name\": episode_title,\n",
    "        \"scenes\": [scene_data]\n",
    "    }\n",
    "\n",
    "    # Check if the season already exists\n",
    "    existing_season = next((s for s in data[\"seasons\"] if s[\"number\"] == season), None)\n",
    "\n",
    "    if existing_season:\n",
    "        # Check if the episode already exists\n",
    "        existing_episode = next((e for e in existing_season[\"episodes\"] if e[\"number\"] == episode_number), None)\n",
    "\n",
    "        if existing_episode:\n",
    "            # Add scene to existing episode\n",
    "            existing_episode[\"scenes\"].append(scene_data)\n",
    "        else:\n",
    "            # Add new episode to existing season\n",
    "            existing_season[\"episodes\"].append(episode_data)\n",
    "    else:\n",
    "        # Add new season with episode and scene\n",
    "        data[\"seasons\"].append({\n",
    "            \"number\": season,\n",
    "            \"episodes\": [episode_data]\n",
    "        })\n",
    "\n",
    "# Write data to JSON file\n",
    "with open(\"output.json\", \"w\") as outfile:\n",
    "    json.dump(data, outfile, indent=4)\n"
   ]
  },
  {
   "cell_type": "markdown",
   "metadata": {},
   "source": [
    "### Couting frquency for word cloud"
   ]
  },
  {
   "cell_type": "code",
   "execution_count": 2,
   "metadata": {},
   "outputs": [
    {
     "name": "stderr",
     "output_type": "stream",
     "text": [
      "[nltk_data] Downloading package stopwords to /Users/nachi/nltk_data...\n",
      "[nltk_data]   Package stopwords is already up-to-date!\n"
     ]
    },
    {
     "name": "stdout",
     "output_type": "stream",
     "text": [
      "Word cloud data has been saved to 'wordcloud_data.json'.\n"
     ]
    }
   ],
   "source": [
    "import json\n",
    "from collections import Counter\n",
    "import nltk\n",
    "from nltk.corpus import stopwords\n",
    "\n",
    "# Download NLTK stopwords data (if not already downloaded)\n",
    "nltk.download('stopwords')\n",
    "\n",
    "# Load the JSON data\n",
    "with open('data_modified.json', 'r') as file:\n",
    "    data = json.load(file)\n",
    "\n",
    "# Extract words from each modified quote, excluding stopwords\n",
    "english_stopwords = set(stopwords.words('english'))\n",
    "words = []\n",
    "for item in data:\n",
    "    words.extend([word.lower() for word in item['modified_quote'].split(', ') if word.lower() not in english_stopwords])\n",
    "\n",
    "# Count the frequency of each word\n",
    "word_freq = Counter(words)\n",
    "\n",
    "# Convert word frequency to JSON format\n",
    "wordcloud_data = [{'text': word, 'size': freq} for word, freq in word_freq.items()]\n",
    "\n",
    "# Save the word cloud data to a JSON file\n",
    "with open('wordcloud_data.json', 'w') as file:\n",
    "    json.dump(wordcloud_data, file, indent=4)\n",
    "\n",
    "print(\"Word cloud data has been saved to 'wordcloud_data.json'.\")\n"
   ]
  }
 ],
 "metadata": {
  "kernelspec": {
   "display_name": "Python 3",
   "language": "python",
   "name": "python3"
  },
  "language_info": {
   "codemirror_mode": {
    "name": "ipython",
    "version": 3
   },
   "file_extension": ".py",
   "mimetype": "text/x-python",
   "name": "python",
   "nbconvert_exporter": "python",
   "pygments_lexer": "ipython3",
   "version": "3.12.1"
  }
 },
 "nbformat": 4,
 "nbformat_minor": 2
}
