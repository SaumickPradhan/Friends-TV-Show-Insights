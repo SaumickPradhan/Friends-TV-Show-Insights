{
 "cells": [
  {
   "cell_type": "code",
   "execution_count": 2,
   "metadata": {},
   "outputs": [
    {
     "name": "stdout",
     "output_type": "stream",
     "text": [
      "Scene column added and updated based on the quotes containing \"Scene:\".\n",
      "     author  episode_number           episode_title  \\\n",
      "0    Monica             1.0  Monica Gets A Roommate   \n",
      "1      Joey             1.0  Monica Gets A Roommate   \n",
      "2  Chandler             1.0  Monica Gets A Roommate   \n",
      "3    Phoebe             1.0  Monica Gets A Roommate   \n",
      "4    Phoebe             1.0  Monica Gets A Roommate   \n",
      "\n",
      "                                               quote  quote_order  season  \\\n",
      "0  There's nothing to tell! He's just some guy I ...          0.0     1.0   \n",
      "1  C'mon, you're going out with the guy! There's ...          1.0     1.0   \n",
      "2  All right Joey, be nice. So does he have a hum...          2.0     1.0   \n",
      "3                           Wait, does he eat chalk?          3.0     1.0   \n",
      "4  Just, 'cause, I don't want her to go through w...          4.0     1.0   \n",
      "\n",
      "  Scene  \n",
      "0     0  \n",
      "1     0  \n",
      "2     0  \n",
      "3     0  \n",
      "4     0  \n"
     ]
    }
   ],
   "source": [
    "import pandas as pd\n",
    "\n",
    "# Read the CSV file into a DataFrame\n",
    "df = pd.read_csv('newfriends_quotes.csv')\n",
    "\n",
    "# Initialize the Scene column with NaN values\n",
    "df['Scene'] = pd.NA\n",
    "\n",
    "# Iterate through the DataFrame to update the Scene number whenever 'Scene:' is found in the quote\n",
    "current_scene = 0\n",
    "for index, row in df.iterrows():\n",
    "    if 'Scene:' in row['quote']:\n",
    "        current_scene += 1\n",
    "    df.at[index, 'Scene'] = current_scene\n",
    "\n",
    "# Save the updated DataFrame back to the CSV file\n",
    "df.to_csv('newfriends_quotes_updated.csv', index=False)\n",
    "\n",
    "print('Scene column added and updated based on the quotes containing \"Scene:\".')\n",
    "print(df.head())\n"
   ]
  },
  {
   "cell_type": "code",
   "execution_count": null,
   "metadata": {},
   "outputs": [],
   "source": []
  }
 ],
 "metadata": {
  "kernelspec": {
   "display_name": "Python 3",
   "language": "python",
   "name": "python3"
  },
  "language_info": {
   "codemirror_mode": {
    "name": "ipython",
    "version": 3
   },
   "file_extension": ".py",
   "mimetype": "text/x-python",
   "name": "python",
   "nbconvert_exporter": "python",
   "pygments_lexer": "ipython3",
   "version": "3.9.16"
  }
 },
 "nbformat": 4,
 "nbformat_minor": 2
}
